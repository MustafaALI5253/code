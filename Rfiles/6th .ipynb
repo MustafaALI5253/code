{
 "cells": [
  {
   "cell_type": "code",
   "execution_count": 6,
   "id": "425daf21",
   "metadata": {},
   "outputs": [
    {
     "name": "stdout",
     "output_type": "stream",
     "text": [
      "enter the list5\n"
     ]
    },
    {
     "ename": "AttributeError",
     "evalue": "'str' object has no attribute 'slplit'",
     "output_type": "error",
     "traceback": [
      "\u001b[1;31m---------------------------------------------------------------------------\u001b[0m",
      "\u001b[1;31mAttributeError\u001b[0m                            Traceback (most recent call last)",
      "Cell \u001b[1;32mIn[6], line 4\u001b[0m\n\u001b[0;32m      1\u001b[0m \u001b[38;5;66;03m# to creat a tupple from a given list and revers \u001b[39;00m\n\u001b[0;32m      3\u001b[0m i\u001b[38;5;241m=\u001b[39m\u001b[38;5;28minput\u001b[39m(\u001b[38;5;124m\"\u001b[39m\u001b[38;5;124menter the list\u001b[39m\u001b[38;5;124m\"\u001b[39m)\n\u001b[1;32m----> 4\u001b[0m i\u001b[38;5;241m.\u001b[39mslplit()\n\u001b[0;32m      5\u001b[0m i\u001b[38;5;241m=\u001b[39m[slipt(i)]\n",
      "\u001b[1;31mAttributeError\u001b[0m: 'str' object has no attribute 'slplit'"
     ]
    }
   ],
   "source": [
    "# to creat a tupple from a given list and revers \n",
    "\n",
    "i=input(\"enter the list\")\n",
    "i.slplit()\n",
    "i=[slipt(i)]"
   ]
  },
  {
   "cell_type": "code",
   "execution_count": 3,
   "id": "35bf0c6f",
   "metadata": {},
   "outputs": [],
   "source": [
    "# to creat list of tupple where each each tupplr is elements first element is upair case charecterand second elements  is its unicode"
   ]
  },
  {
   "cell_type": "code",
   "execution_count": 4,
   "id": "588f5952",
   "metadata": {},
   "outputs": [],
   "source": [
    "# creat 2 sets from a given nomer is seorest even& odd number "
   ]
  },
  {
   "cell_type": "code",
   "execution_count": null,
   "id": "abedc245",
   "metadata": {},
   "outputs": [],
   "source": []
  }
 ],
 "metadata": {
  "kernelspec": {
   "display_name": "Python 3 (ipykernel)",
   "language": "python",
   "name": "python3"
  },
  "language_info": {
   "codemirror_mode": {
    "name": "ipython",
    "version": 3
   },
   "file_extension": ".py",
   "mimetype": "text/x-python",
   "name": "python",
   "nbconvert_exporter": "python",
   "pygments_lexer": "ipython3",
   "version": "3.11.3"
  }
 },
 "nbformat": 4,
 "nbformat_minor": 5
}
