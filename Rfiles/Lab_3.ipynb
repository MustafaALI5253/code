{
 "cells": [
  {
   "cell_type": "markdown",
   "id": "c61c6536",
   "metadata": {},
   "source": [
    "# map Function"
   ]
  },
  {
   "cell_type": "code",
   "execution_count": 4,
   "id": "41d7d684",
   "metadata": {},
   "outputs": [
    {
     "name": "stdout",
     "output_type": "stream",
     "text": [
      "<map object at 0x000002DED8F6C190>\n",
      "<class 'map'>\n",
      "1 8 27 64 125 216 343 512 729 1000 "
     ]
    }
   ],
   "source": [
    "def cube(n):\n",
    "    return n*n*n\n",
    "x=map(cube,[1,2,3,4,5,6,7,8,9,10])\n",
    "print(x)\n",
    "print(type(x))\n",
    "for i in x:\n",
    "    print(i,end=\" \")"
   ]
  },
  {
   "cell_type": "code",
   "execution_count": 12,
   "id": "82b5327e",
   "metadata": {},
   "outputs": [
    {
     "name": "stdout",
     "output_type": "stream",
     "text": [
      "['Odd', 'Even', 'Odd', 'Even', 'Odd', 'Even', 'Odd', 'Even', 'Odd']\n"
     ]
    }
   ],
   "source": [
    "def EvenOdd(n):\n",
    " if n%2==0:\n",
    "    return \"Even\"\n",
    " else:\n",
    "    return \"Odd\"\n",
    "y=map(EvenOdd,(1,2,3,4,5,6,7,8,9))\n",
    "print(list(y))"
   ]
  },
  {
   "cell_type": "code",
   "execution_count": 14,
   "id": "d7ec1ab9",
   "metadata": {},
   "outputs": [
    {
     "name": "stdout",
     "output_type": "stream",
     "text": [
      "<filter object at 0x000002DED8F6E2C0>\n",
      "<class 'filter'>\n",
      "[2, 4, 6, 8]\n",
      "[False, True, False, True, False, True, False, True, False]\n"
     ]
    }
   ],
   "source": [
    "def Even(n):\n",
    "    if n%2==0:\n",
    "        return True\n",
    "    else:\n",
    "        return False\n",
    "f=filter(Even,(1,2,3,4,5,6,7,8,9))\n",
    "print(f)\n",
    "print(type(f))\n",
    "print(list(f))\n",
    "m=map(Even,(1,2,3,4,5,6,7,8,9))\n",
    "print(list(m))"
   ]
  },
  {
   "cell_type": "code",
   "execution_count": 15,
   "id": "f52fc921",
   "metadata": {},
   "outputs": [
    {
     "name": "stdout",
     "output_type": "stream",
     "text": [
      "15\n"
     ]
    }
   ],
   "source": [
    "from functools import reduce\n",
    "def add(a,b):\n",
    "    return a+b\n",
    "r=reduce(add,[1,2,3,4,5])\n",
    "print(r)\n",
    "    "
   ]
  },
  {
   "cell_type": "code",
   "execution_count": 24,
   "id": "34682b33",
   "metadata": {},
   "outputs": [
    {
     "ename": "IndentationError",
     "evalue": "unindent does not match any outer indentation level (<tokenize>, line 15)",
     "output_type": "error",
     "traceback": [
      "\u001b[1;36m  File \u001b[1;32m<tokenize>:15\u001b[1;36m\u001b[0m\n\u001b[1;33m    return results\u001b[0m\n\u001b[1;37m    ^\u001b[0m\n\u001b[1;31mIndentationError\u001b[0m\u001b[1;31m:\u001b[0m unindent does not match any outer indentation level\n"
     ]
    }
   ],
   "source": [
    "#Write a python script to find nunmber of vowels of each of the string in a given list of string\n",
    "def count_vowels(string):\n",
    "    vowels =['a','e','i','o,'u']\n",
    "    count=0\n",
    "    for char in string:\n",
    "        if char.lower()in vowels:\n",
    "           count+=1\n",
    "        return count\n",
    "             string=[\"hello\",\"Menuka\"]\n",
    "             \n",
    "             \n",
    "    \n",
    "    "
   ]
  },
  {
   "cell_type": "code",
   "execution_count": null,
   "id": "70cb5875",
   "metadata": {},
   "outputs": [],
   "source": []
  }
 ],
 "metadata": {
  "kernelspec": {
   "display_name": "Python 3 (ipykernel)",
   "language": "python",
   "name": "python3"
  },
  "language_info": {
   "codemirror_mode": {
    "name": "ipython",
    "version": 3
   },
   "file_extension": ".py",
   "mimetype": "text/x-python",
   "name": "python",
   "nbconvert_exporter": "python",
   "pygments_lexer": "ipython3",
   "version": "3.11.3"
  }
 },
 "nbformat": 4,
 "nbformat_minor": 5
}
